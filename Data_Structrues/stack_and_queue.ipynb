{
 "cells": [
  {
   "cell_type": "code",
   "execution_count": 4,
   "id": "a8821c00",
   "metadata": {},
   "outputs": [
    {
     "data": {
      "text/plain": [
       "[0, 1, 2, 3]"
      ]
     },
     "execution_count": 4,
     "metadata": {},
     "output_type": "execute_result"
    }
   ],
   "source": [
    "def stack(s):\n",
    "    stack=[]\n",
    "    for i in range(len(s)-1):\n",
    "        stack.append(i)\n",
    "    return stack\n",
    "s=[1,2,3,4,5]\n",
    "a=stack(s)\n",
    "a"
   ]
  },
  {
   "cell_type": "code",
   "execution_count": 5,
   "id": "0558171f",
   "metadata": {},
   "outputs": [],
   "source": [
    "from collections import deque\n",
    "## double ended queue --faster than above approach\n",
    "stack=deque()"
   ]
  },
  {
   "cell_type": "code",
   "execution_count": 6,
   "id": "30ba78d6",
   "metadata": {},
   "outputs": [
    {
     "data": {
      "text/plain": [
       "['__add__',\n",
       " '__class__',\n",
       " '__class_getitem__',\n",
       " '__contains__',\n",
       " '__copy__',\n",
       " '__delattr__',\n",
       " '__delitem__',\n",
       " '__dir__',\n",
       " '__doc__',\n",
       " '__eq__',\n",
       " '__format__',\n",
       " '__ge__',\n",
       " '__getattribute__',\n",
       " '__getitem__',\n",
       " '__getstate__',\n",
       " '__gt__',\n",
       " '__hash__',\n",
       " '__iadd__',\n",
       " '__imul__',\n",
       " '__init__',\n",
       " '__init_subclass__',\n",
       " '__iter__',\n",
       " '__le__',\n",
       " '__len__',\n",
       " '__lt__',\n",
       " '__module__',\n",
       " '__mul__',\n",
       " '__ne__',\n",
       " '__new__',\n",
       " '__reduce__',\n",
       " '__reduce_ex__',\n",
       " '__repr__',\n",
       " '__reversed__',\n",
       " '__rmul__',\n",
       " '__setattr__',\n",
       " '__setitem__',\n",
       " '__sizeof__',\n",
       " '__str__',\n",
       " '__subclasshook__',\n",
       " 'append',\n",
       " 'appendleft',\n",
       " 'clear',\n",
       " 'copy',\n",
       " 'count',\n",
       " 'extend',\n",
       " 'extendleft',\n",
       " 'index',\n",
       " 'insert',\n",
       " 'maxlen',\n",
       " 'pop',\n",
       " 'popleft',\n",
       " 'remove',\n",
       " 'reverse',\n",
       " 'rotate']"
      ]
     },
     "execution_count": 6,
     "metadata": {},
     "output_type": "execute_result"
    }
   ],
   "source": [
    "dir(stack)"
   ]
  },
  {
   "cell_type": "code",
   "execution_count": 7,
   "id": "fdbaebfb",
   "metadata": {},
   "outputs": [],
   "source": [
    "stack.append(\"https://www.techforallwithpriya.com/s/courses/6577fecce4b01a092d558817/take\")\n",
    "stack.append(\"https://www.techforallwithpriya.com/t/u/activeCourses\")"
   ]
  },
  {
   "cell_type": "code",
   "execution_count": 8,
   "id": "fe10d01c",
   "metadata": {},
   "outputs": [
    {
     "data": {
      "text/plain": [
       "deque(['https://www.techforallwithpriya.com/s/courses/6577fecce4b01a092d558817/take',\n",
       "       'https://www.techforallwithpriya.com/t/u/activeCourses'])"
      ]
     },
     "execution_count": 8,
     "metadata": {},
     "output_type": "execute_result"
    }
   ],
   "source": [
    "stack"
   ]
  },
  {
   "cell_type": "code",
   "execution_count": 9,
   "id": "8f490b1d",
   "metadata": {},
   "outputs": [
    {
     "data": {
      "text/plain": [
       "'https://www.techforallwithpriya.com/t/u/activeCourses'"
      ]
     },
     "execution_count": 9,
     "metadata": {},
     "output_type": "execute_result"
    }
   ],
   "source": [
    "stack.pop()"
   ]
  },
  {
   "cell_type": "code",
   "execution_count": 10,
   "id": "ad94da57",
   "metadata": {},
   "outputs": [
    {
     "data": {
      "text/plain": [
       "deque(['https://www.techforallwithpriya.com/s/courses/6577fecce4b01a092d558817/take'])"
      ]
     },
     "execution_count": 10,
     "metadata": {},
     "output_type": "execute_result"
    }
   ],
   "source": [
    "stack"
   ]
  },
  {
   "cell_type": "code",
   "execution_count": 17,
   "id": "4474042f",
   "metadata": {},
   "outputs": [
    {
     "name": "stdout",
     "output_type": "stream",
     "text": [
      "99\n",
      "False\n",
      "3\n",
      "1\n",
      "2\n",
      "99\n"
     ]
    }
   ],
   "source": [
    "class stack:\n",
    "    def __init__(self):\n",
    "        self.container=deque()\n",
    "    \n",
    "    def push(self,val):\n",
    "        self.container.append(val)\n",
    "    \n",
    "    def pop(self):\n",
    "        return self.container.pop()\n",
    "    ## Top element\n",
    "    def peak(self):\n",
    "        return self.container[-1]\n",
    "    ## check whether stack is empty or not\n",
    "\n",
    "    def isempty(self):\n",
    "        return len(self.container)==0\n",
    "    \n",
    "    ## display the size of stack\n",
    "    def size(self):\n",
    "        return len(self.container)\n",
    "    \n",
    "    def display(self):\n",
    "        for i in self.container:\n",
    "            print(i)\n",
    "\n",
    "\n",
    "st=stack()\n",
    "st.push(1)\n",
    "st.push(2)\n",
    "st.push(99)\n",
    "st.push(7)\n",
    "st.push(109)\n",
    "st.pop()\n",
    "st.pop()\n",
    "print(st.peak())\n",
    "print(st.isempty())\n",
    "print(st.size())\n",
    "st.display()\n"
   ]
  },
  {
   "cell_type": "code",
   "execution_count": 19,
   "id": "e19904e1",
   "metadata": {},
   "outputs": [
    {
     "name": "stdout",
     "output_type": "stream",
     "text": [
      "True\n"
     ]
    }
   ],
   "source": [
    "def valid(s):\n",
    "    brakcet_mapping={\"(\":\")\",\"{\":\"}\",\"[\":\"]\"}\n",
    "    open_bracket=set([\"(\",\"{\",\"[\"])\n",
    "    stack=[]\n",
    "    for i in s:\n",
    "        if i in open_bracket:\n",
    "            stack.append(i)\n",
    "        elif stack and i ==brakcet_mapping[stack[-1]]:\n",
    "            stack.pop()\n",
    "        else:\n",
    "            return False\n",
    "    return stack==[]\n",
    "s=\"{([])}\"\n",
    "a=valid(s)\n",
    "print(a)\n",
    "                     \n"
   ]
  },
  {
   "cell_type": "code",
   "execution_count": 21,
   "id": "83eec4f2",
   "metadata": {},
   "outputs": [],
   "source": [
    "## FIFO QUEUE\n",
    "## we can do two ways \n",
    "# 1.append and popleft\n",
    "# 2.appendleft and popright\n"
   ]
  },
  {
   "cell_type": "code",
   "execution_count": 22,
   "id": "32a6493d",
   "metadata": {},
   "outputs": [
    {
     "name": "stdout",
     "output_type": "stream",
     "text": [
      "109\n",
      "False\n",
      "3\n",
      "99\n",
      "7\n",
      "109\n"
     ]
    }
   ],
   "source": [
    "class queue:\n",
    "    def __init__(self):\n",
    "        self.container=deque()\n",
    "    \n",
    "    def push(self,val):\n",
    "        self.container.append(val)\n",
    "    \n",
    "    def pop(self):\n",
    "        return self.container.popleft()\n",
    "    ## Top element\n",
    "    def peak(self):\n",
    "        return self.container[-1]\n",
    "    ## check whether stack is empty or not\n",
    "\n",
    "    def isempty(self):\n",
    "        return len(self.container)==0\n",
    "    \n",
    "    ## display the size of stack\n",
    "    def size(self):\n",
    "        return len(self.container)\n",
    "    \n",
    "    def display(self):\n",
    "        for i in self.container:\n",
    "            print(i)\n",
    "\n",
    "\n",
    "st=queue()\n",
    "st.push(1)\n",
    "st.push(2)\n",
    "st.push(99)\n",
    "st.push(7)\n",
    "st.push(109)\n",
    "st.pop()\n",
    "st.pop()\n",
    "print(st.peak())\n",
    "print(st.isempty())\n",
    "print(st.size())\n",
    "st.display()\n"
   ]
  },
  {
   "cell_type": "code",
   "execution_count": null,
   "id": "f1cb348c",
   "metadata": {},
   "outputs": [],
   "source": []
  }
 ],
 "metadata": {
  "kernelspec": {
   "display_name": "Python 3",
   "language": "python",
   "name": "python3"
  },
  "language_info": {
   "codemirror_mode": {
    "name": "ipython",
    "version": 3
   },
   "file_extension": ".py",
   "mimetype": "text/x-python",
   "name": "python",
   "nbconvert_exporter": "python",
   "pygments_lexer": "ipython3",
   "version": "3.12.1"
  }
 },
 "nbformat": 4,
 "nbformat_minor": 5
}
